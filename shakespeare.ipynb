{
  "nbformat": 4,
  "nbformat_minor": 0,
  "metadata": {
    "colab": {
      "name": "shakespeare.ipynb",
      "provenance": [],
      "collapsed_sections": [],
      "authorship_tag": "ABX9TyNAxTTKWcPxk8zUZ4pmp/TO",
      "include_colab_link": true
    },
    "kernelspec": {
      "name": "python3",
      "display_name": "Python 3"
    }
  },
  "cells": [
    {
      "cell_type": "markdown",
      "metadata": {
        "id": "view-in-github",
        "colab_type": "text"
      },
      "source": [
        "<a href=\"https://colab.research.google.com/github/lechgu/experiments/blob/master/shakespeare.ipynb\" target=\"_parent\"><img src=\"https://colab.research.google.com/assets/colab-badge.svg\" alt=\"Open In Colab\"/></a>"
      ]
    },
    {
      "cell_type": "code",
      "metadata": {
        "id": "ot-jSnfDBQ6u",
        "colab_type": "code",
        "colab": {}
      },
      "source": [
        "import requests\n",
        "import numpy as np\n",
        "import matplotlib.pyplot as plt\n"
      ],
      "execution_count": null,
      "outputs": []
    },
    {
      "cell_type": "code",
      "metadata": {
        "id": "3mrXWK0hSl0Z",
        "colab_type": "code",
        "colab": {}
      },
      "source": [
        "SEQ_LEN = 16\n",
        "BATCH_SIZE = 128\n",
        "EPOCHS  = 20\n",
        "LSTM_NEURONS = 128"
      ],
      "execution_count": null,
      "outputs": []
    },
    {
      "cell_type": "code",
      "metadata": {
        "id": "POs4W2WrEJOd",
        "colab_type": "code",
        "colab": {}
      },
      "source": [
        "url = 'https://storage.googleapis.com/download.tensorflow.org/data/shakespeare.txt'\n",
        "r = requests.get(url)\n",
        "corpus = r.content.decode()\n"
      ],
      "execution_count": null,
      "outputs": []
    },
    {
      "cell_type": "code",
      "metadata": {
        "id": "rQgkwarVEMG_",
        "colab_type": "code",
        "colab": {}
      },
      "source": [
        "vocab = sorted(set(corpus))"
      ],
      "execution_count": null,
      "outputs": []
    },
    {
      "cell_type": "code",
      "metadata": {
        "id": "hVgTXbI6FchP",
        "colab_type": "code",
        "colab": {}
      },
      "source": [
        "c_to_i = {c:i for i, c in enumerate(vocab)}\n",
        "i_to_c = {i:c for c, i in c_to_i.items()}"
      ],
      "execution_count": null,
      "outputs": []
    },
    {
      "cell_type": "code",
      "metadata": {
        "id": "BREa3i4-K4gB",
        "colab_type": "code",
        "colab": {}
      },
      "source": [
        "data = np.array([c_to_i[c] for c in corpus])"
      ],
      "execution_count": null,
      "outputs": []
    },
    {
      "cell_type": "code",
      "metadata": {
        "id": "riGj4_u7K6HS",
        "colab_type": "code",
        "colab": {}
      },
      "source": [
        "xs = []\n",
        "ys = []\n",
        "for i in range(len(data) - SEQ_LEN - 1):\n",
        "    xs.append(data[i:i+SEQ_LEN])\n",
        "    ys.append(data[i + SEQ_LEN])\n"
      ],
      "execution_count": null,
      "outputs": []
    },
    {
      "cell_type": "code",
      "metadata": {
        "id": "ARNNpr_JTAo3",
        "colab_type": "code",
        "colab": {}
      },
      "source": [
        "X = np.array(xs)\n",
        "X = np.expand_dims(X, axis=2)"
      ],
      "execution_count": null,
      "outputs": []
    },
    {
      "cell_type": "code",
      "metadata": {
        "id": "PCI1oveWVDjt",
        "colab_type": "code",
        "colab": {
          "base_uri": "https://localhost:8080/",
          "height": 34
        },
        "outputId": "19d01d93-b821-4508-db0f-eaccf0bf1f0c"
      },
      "source": [
        "from keras.utils import  to_categorical\n",
        "y = to_categorical(ys)"
      ],
      "execution_count": null,
      "outputs": [
        {
          "output_type": "stream",
          "text": [
            "Using TensorFlow backend.\n"
          ],
          "name": "stderr"
        }
      ]
    },
    {
      "cell_type": "code",
      "metadata": {
        "id": "FvJQZ8scXPtv",
        "colab_type": "code",
        "colab": {}
      },
      "source": [
        "from keras.models import  Sequential\n",
        "from keras.layers import LSTM, Dropout, Dense\n",
        "model = Sequential([\n",
        "    LSTM(LSTM_NEURONS, input_shape=X.shape[1:]),\n",
        "    Dense(y.shape[1],activation='softmax')\n",
        "])\n",
        "model.compile(loss='categorical_crossentropy', optimizer='adam', metrics=['accuracy'])"
      ],
      "execution_count": null,
      "outputs": []
    },
    {
      "cell_type": "code",
      "metadata": {
        "id": "WnAdJeIMYkth",
        "colab_type": "code",
        "colab": {
          "base_uri": "https://localhost:8080/",
          "height": 697
        },
        "outputId": "d063ab09-856b-4af0-f30d-8bc0a361eda1"
      },
      "source": [
        "history = model.fit(X, y, epochs=EPOCHS, batch_size=BATCH_SIZE)\n",
        "model.save('shakespeare.h5')"
      ],
      "execution_count": null,
      "outputs": [
        {
          "output_type": "stream",
          "text": [
            "Epoch 1/20\n",
            "1115377/1115377 [==============================] - 541s 485us/step - loss: 2.6053 - accuracy: 0.2625\n",
            "Epoch 2/20\n",
            "1115377/1115377 [==============================] - 541s 485us/step - loss: 2.3978 - accuracy: 0.3129\n",
            "Epoch 3/20\n",
            "1115377/1115377 [==============================] - 527s 472us/step - loss: 2.2964 - accuracy: 0.3441\n",
            "Epoch 4/20\n",
            "1115377/1115377 [==============================] - 554s 496us/step - loss: 2.2314 - accuracy: 0.3630\n",
            "Epoch 5/20\n",
            "1115377/1115377 [==============================] - 536s 481us/step - loss: 2.1862 - accuracy: 0.3756\n",
            "Epoch 6/20\n",
            "1115377/1115377 [==============================] - 544s 488us/step - loss: 2.1511 - accuracy: 0.3849\n",
            "Epoch 7/20\n",
            "1115377/1115377 [==============================] - 538s 482us/step - loss: 2.1221 - accuracy: 0.3925\n",
            "Epoch 8/20\n",
            "1115377/1115377 [==============================] - 555s 497us/step - loss: 2.0978 - accuracy: 0.3988\n",
            "Epoch 9/20\n",
            "1115377/1115377 [==============================] - 538s 482us/step - loss: 2.0761 - accuracy: 0.4051\n",
            "Epoch 10/20\n",
            "1115377/1115377 [==============================] - 547s 491us/step - loss: 2.0573 - accuracy: 0.4101\n",
            "Epoch 11/20\n",
            "1115377/1115377 [==============================] - 535s 480us/step - loss: 2.0402 - accuracy: 0.4152\n",
            "Epoch 12/20\n",
            "1115377/1115377 [==============================] - 557s 500us/step - loss: 2.0250 - accuracy: 0.4192\n",
            "Epoch 13/20\n",
            "1115377/1115377 [==============================] - 540s 484us/step - loss: 2.0106 - accuracy: 0.4228\n",
            "Epoch 14/20\n",
            "1115377/1115377 [==============================] - 547s 490us/step - loss: 1.9976 - accuracy: 0.4260\n",
            "Epoch 15/20\n",
            "1115377/1115377 [==============================] - 532s 477us/step - loss: 1.9869 - accuracy: 0.4287\n",
            "Epoch 16/20\n",
            "1115377/1115377 [==============================] - 531s 476us/step - loss: 1.9765 - accuracy: 0.4313\n",
            "Epoch 17/20\n",
            "1115377/1115377 [==============================] - 572s 512us/step - loss: 1.9673 - accuracy: 0.4341\n",
            "Epoch 18/20\n",
            "1115377/1115377 [==============================] - 558s 500us/step - loss: 1.9588 - accuracy: 0.4359\n",
            "Epoch 19/20\n",
            "1115377/1115377 [==============================] - 539s 483us/step - loss: 1.9513 - accuracy: 0.4383\n",
            "Epoch 20/20\n",
            "1115377/1115377 [==============================] - 547s 491us/step - loss: 1.9440 - accuracy: 0.4402\n"
          ],
          "name": "stdout"
        }
      ]
    },
    {
      "cell_type": "code",
      "metadata": {
        "id": "lNVVLRqPfCIs",
        "colab_type": "code",
        "colab": {
          "base_uri": "https://localhost:8080/",
          "height": 122
        },
        "outputId": "cdd115c1-5d76-4bd1-833f-9e66be88edcd"
      },
      "source": [
        "from google.colab import drive\n",
        "drive.mount('/content/gdrive')"
      ],
      "execution_count": null,
      "outputs": [
        {
          "output_type": "stream",
          "text": [
            "Go to this URL in a browser: https://accounts.google.com/o/oauth2/auth?client_id=947318989803-6bn6qk8qdgf4n4g3pfee6491hc0brc4i.apps.googleusercontent.com&redirect_uri=urn%3aietf%3awg%3aoauth%3a2.0%3aoob&response_type=code&scope=email%20https%3a%2f%2fwww.googleapis.com%2fauth%2fdocs.test%20https%3a%2f%2fwww.googleapis.com%2fauth%2fdrive%20https%3a%2f%2fwww.googleapis.com%2fauth%2fdrive.photos.readonly%20https%3a%2f%2fwww.googleapis.com%2fauth%2fpeopleapi.readonly\n",
            "\n",
            "Enter your authorization code:\n",
            "··········\n",
            "Mounted at /content/gdrive\n"
          ],
          "name": "stdout"
        }
      ]
    },
    {
      "cell_type": "code",
      "metadata": {
        "id": "_caIsjYYgZ5p",
        "colab_type": "code",
        "colab": {}
      },
      "source": [
        "path = f\"/content/gdrive/My Drive/shakespeare.h5\" \n",
        "#model.save(path)"
      ],
      "execution_count": null,
      "outputs": []
    },
    {
      "cell_type": "code",
      "metadata": {
        "id": "7X6nF_Uuip2y",
        "colab_type": "code",
        "colab": {}
      },
      "source": [
        "model.load_weights(path)"
      ],
      "execution_count": null,
      "outputs": []
    },
    {
      "cell_type": "code",
      "metadata": {
        "id": "ZrHmbL1_jWwS",
        "colab_type": "code",
        "colab": {
          "base_uri": "https://localhost:8080/",
          "height": 221
        },
        "outputId": "b053835f-fcde-4d02-877c-d17a0771bca3"
      },
      "source": [
        "model.summary()"
      ],
      "execution_count": null,
      "outputs": [
        {
          "output_type": "stream",
          "text": [
            "Model: \"sequential_1\"\n",
            "_________________________________________________________________\n",
            "Layer (type)                 Output Shape              Param #   \n",
            "=================================================================\n",
            "lstm_1 (LSTM)                (None, 128)               66560     \n",
            "_________________________________________________________________\n",
            "dense_1 (Dense)              (None, 65)                8385      \n",
            "=================================================================\n",
            "Total params: 74,945\n",
            "Trainable params: 74,945\n",
            "Non-trainable params: 0\n",
            "_________________________________________________________________\n"
          ],
          "name": "stdout"
        }
      ]
    },
    {
      "cell_type": "code",
      "metadata": {
        "id": "347v8cNbkOTz",
        "colab_type": "code",
        "colab": {
          "base_uri": "https://localhost:8080/",
          "height": 510
        },
        "outputId": "644de711-57ce-4356-dfe9-7f9237487f11"
      },
      "source": [
        "x = X[np.random.randint(X.shape[0]),:, 0].tolist()\n",
        "gen = ''.join([i_to_c[i] for i in x])\n",
        "for i in x:\n",
        "    gen += i_to_c[i]\n",
        "indices = None\n",
        "for i in range(600):\n",
        "    xarr = np.array(x).reshape(1, SEQ_LEN, 1)\n",
        "    probs = model.predict(xarr)\n",
        "    probs = (probs/np.sum(probs)).ravel()\n",
        "    if not indices:\n",
        "        indices = list(range(len(probs)))\n",
        "    i = np.random.choice(indices, 1, p = probs)[0]\n",
        "    x = x[1:] + [i]\n",
        "    gen += i_to_c[i]\n",
        "print(gen)"
      ],
      "execution_count": 204,
      "outputs": [
        {
          "output_type": "stream",
          "text": [
            "S:\n",
            "Thou, traitorS:\n",
            "Thou, traitoress,\n",
            "Io the lancs touo.\n",
            "Thou reeos agllg\n",
            "And freeed frii a food soeero: Soie to repseratu.\n",
            "Ceau, whol danber oe dyay mose: ase so our attbe.\n",
            "\n",
            "ROMEO:\n",
            "Oflcoe Ienwangs:\n",
            "Tpopd bear sels that hearee nit: the nstte tobtonn!\n",
            "\n",
            "HASTINGS:\n",
            "So all ctotm goeer inodlle teale.\n",
            "\n",
            "FOBALRPP:\n",
            "How, ly nent? dokoosalen, somn wiide met, the his oartiocsenl seqden,\n",
            "Tuca narent forse\n",
            "To she will;\n",
            "For a\n",
            "plgdr of ier trlntt, snnd to, 'twater, I have?\n",
            "\n",
            "Sherd Murderiis.\n",
            "\n",
            "Remenahet:\n",
            "Mar were eerertes, ton, we shiu hin sercint; lne-eer walk.apabn.\n",
            "\n",
            "KING RICHARD III:\n",
            "Uherefore, hep ilst? K kustnd detewt the mani's gou he taf\n"
          ],
          "name": "stdout"
        }
      ]
    },
    {
      "cell_type": "code",
      "metadata": {
        "id": "h-n25YbPtsUm",
        "colab_type": "code",
        "colab": {}
      },
      "source": [
        ""
      ],
      "execution_count": null,
      "outputs": []
    }
  ]
}